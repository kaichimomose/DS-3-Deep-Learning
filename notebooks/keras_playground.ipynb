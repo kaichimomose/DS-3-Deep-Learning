{
 "cells": [
  {
   "cell_type": "code",
   "execution_count": 34,
   "metadata": {},
   "outputs": [],
   "source": [
    "import keras\n",
    "from keras.datasets import mnist\n",
    "from keras.models import Sequential\n",
    "from keras.layers import Dense\n",
    "import matplotlib.pyplot as plt\n",
    "%matplotlib inline"
   ]
  },
  {
   "cell_type": "code",
   "execution_count": 35,
   "metadata": {
    "collapsed": true
   },
   "outputs": [],
   "source": [
    "(X_train, y_train), (X_test, y_test) =  mnist.load_data()"
   ]
  },
  {
   "cell_type": "code",
   "execution_count": 36,
   "metadata": {},
   "outputs": [
    {
     "data": {
      "text/plain": [
       "<matplotlib.image.AxesImage at 0x1160b4ba8>"
      ]
     },
     "execution_count": 36,
     "metadata": {},
     "output_type": "execute_result"
    },
    {
     "data": {
      "image/png": "[encoded data removed]",
      "text/plain": [
       "<matplotlib.figure.Figure at 0x11606f630>"
      ]
     },
     "metadata": {},
     "output_type": "display_data"
    }
   ],
   "source": [
    "plt.imshow(X_train[0])"
   ]
  },
  {
   "cell_type": "code",
   "execution_count": 37,
   "metadata": {
    "collapsed": true
   },
   "outputs": [],
   "source": [
    "# Preprocessing our training and testing sets, don't worry if you don't \n",
    "# Understand this part--we'll cover this in depth in other tutorials!\n",
    "X_train = X_train.reshape(60000, 784).astype('float32')\n",
    "X_test = X_test.reshape(10000, 784).astype('float32')\n",
    "X_train /= 255.\n",
    "X_test /= 255.\n",
    "num_classes = 10\n",
    "y_train = keras.utils.to_categorical(y_train, num_classes)\n",
    "y_test = keras.utils.to_categorical(y_test, num_classes)"
   ]
  },
  {
   "cell_type": "code",
   "execution_count": 39,
   "metadata": {},
   "outputs": [
    {
     "name": "stdout",
     "output_type": "stream",
     "text": [
      "Train on 60000 samples, validate on 10000 samples\n",
      "Epoch 1/10\n",
      "60000/60000 [==============================] - 5s 85us/step - loss: 2.1078 - acc: 0.4228 - val_loss: 1.8887 - val_acc: 0.6328\n",
      "Epoch 2/10\n",
      "60000/60000 [==============================] - 4s 61us/step - loss: 1.7140 - acc: 0.6807 - val_loss: 1.5240 - val_acc: 0.7284\n",
      "Epoch 3/10\n",
      "60000/60000 [==============================] - 4s 65us/step - loss: 1.3918 - acc: 0.7508 - val_loss: 1.2391 - val_acc: 0.7795\n",
      "Epoch 4/10\n",
      "60000/60000 [==============================] - 4s 61us/step - loss: 1.1502 - acc: 0.7875 - val_loss: 1.0350 - val_acc: 0.8077\n",
      "Epoch 5/10\n",
      "60000/60000 [==============================] - 4s 65us/step - loss: 0.9788 - acc: 0.8113 - val_loss: 0.8912 - val_acc: 0.8263\n",
      "Epoch 6/10\n",
      "60000/60000 [==============================] - 4s 64us/step - loss: 0.8571 - acc: 0.8265 - val_loss: 0.7888 - val_acc: 0.8411\n",
      "Epoch 7/10\n",
      "60000/60000 [==============================] - 4s 72us/step - loss: 0.7684 - acc: 0.8381 - val_loss: 0.7126 - val_acc: 0.8518\n",
      "Epoch 8/10\n",
      "60000/60000 [==============================] - 4s 59us/step - loss: 0.7014 - acc: 0.8467 - val_loss: 0.6541 - val_acc: 0.8609\n",
      "Epoch 9/10\n",
      "60000/60000 [==============================] - 4s 67us/step - loss: 0.6493 - acc: 0.8547 - val_loss: 0.6081 - val_acc: 0.8663\n",
      "Epoch 10/10\n",
      "60000/60000 [==============================] - 4s 60us/step - loss: 0.6077 - acc: 0.8610 - val_loss: 0.5709 - val_acc: 0.8713\n"
     ]
    },
    {
     "data": {
      "text/plain": [
       "<keras.callbacks.History at 0x14af27ba8>"
      ]
     },
     "execution_count": 39,
     "metadata": {},
     "output_type": "execute_result"
    }
   ],
   "source": [
    "model = Sequential()\n",
    "model.add(Dense(50, activation='sigmoid', input_shape=(784,)))\n",
    "model.add(Dense(10, activation='softmax'))\n",
    "model.compile(loss='categorical_crossentropy', optimizer='sgd', metrics=['accuracy'])\n",
    "model.fit(X_train, y_train, batch_size=128, epochs=10, verbose=1, validation_data=(X_test, y_test))"
   ]
  },
  {
   "cell_type": "code",
   "execution_count": null,
   "metadata": {
    "collapsed": true
   },
   "outputs": [],
   "source": []
  },
  {
   "cell_type": "code",
   "execution_count": null,
   "metadata": {
    "collapsed": true
   },
   "outputs": [],
   "source": []
  }
 ],
 "metadata": {
  "kernelspec": {
   "display_name": "Python 3",
   "language": "python",
   "name": "python3"
  },
  "language_info": {
   "codemirror_mode": {
    "name": "ipython",
    "version": 3
   },
   "file_extension": ".py",
   "mimetype": "text/x-python",
   "name": "python",
   "nbconvert_exporter": "python",
   "pygments_lexer": "ipython3",
   "version": "3.6.3"
  }
 },
 "nbformat": 4,
 "nbformat_minor": 2
}
